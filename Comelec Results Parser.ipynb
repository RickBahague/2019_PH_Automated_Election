{
 "cells": [
  {
   "cell_type": "code",
   "execution_count": 65,
   "metadata": {
    "ExecuteTime": {
     "end_time": "2022-05-10T08:51:11.531835Z",
     "start_time": "2022-05-10T08:51:11.526334Z"
    }
   },
   "outputs": [],
   "source": [
    "import pandas as pd\n",
    "import time\n",
    "import dask\n",
    "import os.path\n",
    "import random\n",
    "import logging\n",
    "logging.basicConfig(filename='logs/cluster_id_monitor',encoding='utf-8', level=logging.INFO)"
   ]
  },
  {
   "cell_type": "code",
   "execution_count": 66,
   "metadata": {
    "ExecuteTime": {
     "end_time": "2022-05-10T08:51:11.856208Z",
     "start_time": "2022-05-10T08:51:11.853313Z"
    }
   },
   "outputs": [],
   "source": [
    "from selenium.webdriver import Firefox\n",
    "from selenium.webdriver.firefox.options import Options"
   ]
  },
  {
   "cell_type": "code",
   "execution_count": 67,
   "metadata": {
    "ExecuteTime": {
     "end_time": "2022-05-10T08:51:12.341826Z",
     "start_time": "2022-05-10T08:51:12.317741Z"
    }
   },
   "outputs": [],
   "source": [
    "def follow_link(cluster_id,browser):\n",
    "    link = f\"https://2022electionresults.comelec.gov.ph/#/search/{cluster_id}/local\"\n",
    "    browser.get(link)\n",
    "    time.sleep(10)\n",
    "    try:\n",
    "        results = browser.find_elements_by_class_name('main-info-wrapper')\n",
    "        return results[0] #c\n",
    "    except:\n",
    "        return\n",
    "\n",
    "def get_transmission_status(c):\n",
    "    try:\n",
    "        transmission_status = c.find_element_by_class_name('transmission-status')\n",
    "    except:\n",
    "        return\n",
    "    transmission_status_label = transmission_status.find_element_by_css_selector('.candidate-result-top').text\n",
    "    transmission_status_text = transmission_status.find_element_by_xpath('/html/body/div/div/ui-view/div/div/div[2]/div[2]/div[2]/results-viewer/div[1]/div/div[2]').text\n",
    "    d={transmission_status_label:transmission_status_text}\n",
    "    df = pd.DataFrame([d])\n",
    "    return df\n",
    "\n",
    "def get_machine_info(c):\n",
    "    machine_table = c.find_element_by_css_selector('html.ng-scope body.ng-scope div.content-wrapper div#container.container-fluid ui-view.ng-scope div.row.ng-scope div.form-group div.col-xs-12.col-sm-12.col-md-9.col-md-offset-3.results-info div.inside-full-height div.main-info-wrapper.col-xs-12.col-sm-12 results-viewer.ng-isolate-scope div.row.contests-wrapper.ng-scope div.ng-scope div.col-xs-12.col-sm-12.col-md-12.ng-scope')\n",
    "    gen_info = machine_table.find_elements_by_class_name('gen-inf-row')\n",
    "    infos = []\n",
    "    for cc in gen_info:\n",
    "        infos.append(cc.text.split('\\n'))\n",
    "    df_temp = pd.DataFrame(infos).T\n",
    "    df = pd.DataFrame(df_temp.loc[1].values).T\n",
    "    df.columns = df_temp.loc[0].values\n",
    "    return df\n",
    "\n",
    "def get_results_table(c):\n",
    "    return c.find_elements_by_class_name('contest-results-table')\n",
    "\n",
    "def get_presidents(results_table):\n",
    "    presidents = []\n",
    "    candidates = results_table[0].find_elements_by_xpath('/html/body/div/div/ui-view/div/div/div[2]/div[2]/div[2]/results-viewer/div[2]/div[2]/div[2]/div/div/div[2]/div[1]/*')\n",
    "    for cc in candidates:\n",
    "        presidents.append(cc.text.split(\"\\n\"))\n",
    "    df = pd.DataFrame(presidents[1:])\n",
    "    df.columns = presidents[0]\n",
    "    return df\n",
    "\n",
    "def get_stats_presidents(results_table):\n",
    "    stats_presidents = results_table[1].find_elements_by_xpath('/html/body/div/div/ui-view/div/div/div[2]/div[2]/div[2]/results-viewer/div[2]/div[2]/div[2]/div/div/div[2]/div[2]/div/statistical-info/div/div[2]/div/*')\n",
    "    stats = []\n",
    "    for cc in stats_presidents:\n",
    "        stats.append(cc.text.split(\"\\n\"))\n",
    "    df = pd.DataFrame(stats[1:])\n",
    "    df.columns = ['Stat','Value']\n",
    "    return df\n",
    "\n",
    "def get_vps(results_table):\n",
    "    vps = []\n",
    "    candidates = results_table[2].find_elements_by_xpath('/html/body/div/div/ui-view/div/div/div[2]/div[2]/div[2]/results-viewer/div[2]/div[2]/div[3]/div/div/div[2]/div[1]/*')\n",
    "    for cc in candidates:\n",
    "        vps.append(cc.text.split(\"\\n\"))\n",
    "    df = pd.DataFrame(vps[1:])\n",
    "    df.columns = vps[0]\n",
    "    return df\n",
    "\n",
    "\n",
    "def get_stats_vps(results_table):\n",
    "    stats_vps = results_table[3].find_elements_by_xpath('/html/body/div/div/ui-view/div/div/div[2]/div[2]/div[2]/results-viewer/div[2]/div[2]/div[3]/div/div/div[2]/div[2]/div/statistical-info/div/div[2]/*')\n",
    "    stats = []\n",
    "    for cc in stats_vps:\n",
    "        stats.append(cc.text.split(\"\\n\"))\n",
    "    df = pd.DataFrame(stats[1:])\n",
    "    df.columns = ['Stat','Value']\n",
    "    return df\n",
    "\n",
    "def get_senators(results_table):\n",
    "    senators = []\n",
    "    candidates = results_table[0].find_elements_by_xpath('/html/body/div/div/ui-view/div/div/div[2]/div[2]/div[2]/results-viewer/div[2]/div[2]/div[4]/div/div/div[2]/div[1]/*')\n",
    "    for cc in candidates:\n",
    "        senators.append(cc.text.split(\"\\n\"))\n",
    "    df = pd.DataFrame(senators[1:])\n",
    "    df.columns = senators[0]\n",
    "    return df\n",
    "\n",
    "\n",
    "def get_stats_senators(results_table):\n",
    "    stats_senators = results_table[1].find_elements_by_xpath('/html/body/div/div/ui-view/div/div/div[2]/div[2]/div[2]/results-viewer/div[2]/div[2]/div[4]/div/div/div[2]/div[2]/div/statistical-info/div/div[2]/*')\n",
    "    stats = []\n",
    "    for cc in stats_senators:\n",
    "        stats.append(cc.text.split(\"\\n\"))\n",
    "    df = pd.DataFrame(stats[1:])\n",
    "    df.columns = ['Stat','Value']\n",
    "    return df\n",
    "\n",
    "\n",
    "def get_partylists(results_table):\n",
    "    partylists = []\n",
    "    candidates = results_table[2].find_elements_by_xpath('/html/body/div/div/ui-view/div/div/div[2]/div[2]/div[2]/results-viewer/div[2]/div[2]/div[5]/div/div/div[2]/div[1]/*')\n",
    "    for cc in candidates:\n",
    "        partylists.append(cc.text.split(\"\\n\"))\n",
    "    df = pd.DataFrame(partylists[1:])\n",
    "    df.columns = partylists[0]\n",
    "    return df\n",
    "\n",
    "\n",
    "def get_stats_partylists(results_table):\n",
    "    stats_partylists = results_table[3].find_elements_by_xpath('/html/body/div/div/ui-view/div/div/div[2]/div[2]/div[2]/results-viewer/div[2]/div[2]/div[5]/div/div/div[2]/div[2]/div/statistical-info/div/div[2]/*')\n",
    "    stats = []\n",
    "    for cc in stats_partylists:\n",
    "        stats.append(cc.text.split(\"\\n\"))\n",
    "    df = pd.DataFrame(stats[1:])\n",
    "    df.columns = ['Stat','Value']\n",
    "    return df\n",
    "\n",
    "#@dask.delayed\n",
    "def get_all_cluster_info_pipeline(cluster_id,browser):\n",
    "    logging.info(f\"START PROCESSING:{cluster_id}:NEW:{time.time()}\")\n",
    "    check = 0\n",
    "    \n",
    "    try:\n",
    "        c = follow_link(cluster_id,browser)\n",
    "    except:\n",
    "        logging.warning(f\"RERUN: {cluster_id, time.time()}\")\n",
    "    \n",
    "    if(c is not None):\n",
    "        try:\n",
    "            transmission_status = get_transmission_status(c)    \n",
    "        except:\n",
    "            logging.warning(f\"RERUN: Transmission {cluster_id, time.time()}\")\n",
    "\n",
    "        try:\n",
    "            machine_info = get_machine_info(c)\n",
    "            clustered_precinct = machine_info['Clustered precinct ID'].values[0]\n",
    "        except:\n",
    "            logging.warning(f\"RERUN: Machine Info {cluster_id, time.time()}\")\n",
    "            return\n",
    "        \n",
    "        try:\n",
    "            results_table = get_results_table(c)\n",
    "        except:\n",
    "            logging.warning(f\"RERUN: Results DOM {cluster_id, time.time()}\")\n",
    "        \n",
    "        try:\n",
    "            presidents_votes = get_presidents(results_table)\n",
    "        except:\n",
    "            logging.warning(f\"RERUN: Presidents {cluster_id, time.time()}\")\n",
    "        \n",
    "        try:\n",
    "            presidents_votes_stats = get_stats_presidents(results_table)\n",
    "        except:\n",
    "            logging.warning(f\"RERUN: Presidents Stat {cluster_id, time.time()}\")\n",
    "        \n",
    "        try:\n",
    "            vpresidents_votes = get_vps(results_table)\n",
    "        except:\n",
    "            logging.warning(f\"RERUN: Presidents {cluster_id, time.time()}\")\n",
    "        \n",
    "        try:\n",
    "            vpresidents_votes_stats = get_stats_vps(results_table)\n",
    "        except:\n",
    "            logging.warning(f\"RERUN: Presidents Stat {cluster_id, time.time()}\")\n",
    "        \n",
    "        try:\n",
    "            senators_votes = get_senators(results_table)\n",
    "        except:\n",
    "            logging.warning(f\"RERUN: Senators {cluster_id, time.time()}\")\n",
    "        \n",
    "        try:\n",
    "            senators_votes_stats = get_stats_senators(results_table)\n",
    "        except:\n",
    "            logging.warning(f\"RERUN: Senators Stat {cluster_id, time.time()}\")\n",
    "        \n",
    "        try:\n",
    "            partylists_votes = get_partylists(results_table)\n",
    "        except:\n",
    "            logging.warning(f\"RERUN: Partylists {cluster_id, time.time()}\")\n",
    "        \n",
    "        try: \n",
    "            partylists_votes_stats = get_stats_partylists(results_table)\n",
    "        except:\n",
    "            logging.warning(f\"RERUN: Partylists stat {cluster_id, time.time()}\")\n",
    "            \n",
    "        try:\n",
    "            data = {'transmission_status':transmission_status, 'machine_info':machine_info, \\\n",
    "                    'senators_votes': senators_votes, 'senators_votes_stats': senators_votes_stats, \\\n",
    "                    'partylists_votes': partylists_votes, 'partylists_votes_stats': partylists_votes_stats,\\\n",
    "                    'presidents_votes': presidents_votes, 'vps': vpresidents_votes,\n",
    "                    'presidents_votes_stats': presidents_votes_stats, 'vps_stats': vpresidents_votes_stats,}\n",
    "\n",
    "            for k,v in data.items():\n",
    "                v['cluster_id'] = cluster_id\n",
    "                v['Clustered Precinct Extracted'] = clustered_precinct\n",
    "                v.to_csv(f\"data/{k}_{cluster_id}\", mode='w', index=False, encoding='utf-8')\n",
    "                logging.info(f\"PARSING_OK:{cluster_id}:{k}:{time.time()}\")\n",
    "        except:\n",
    "            return\n",
    "\n",
    "    else:\n",
    "        logging.warning(f\"RERUN:{cluster_id}:NO TRANSMISSION:{time.time()}\")\n",
    "        \n",
    "#     browser.close()\n",
    "    return c"
   ]
  },
  {
   "cell_type": "code",
   "execution_count": 14,
   "metadata": {
    "ExecuteTime": {
     "end_time": "2022-05-10T05:11:20.635867Z",
     "start_time": "2022-05-10T05:11:20.631589Z"
    }
   },
   "outputs": [],
   "source": [
    "# cluster_id = '76010002'\n",
    "# c=get_all_cluster_info_pipeline(cluster_id,browser1)"
   ]
  },
  {
   "cell_type": "code",
   "execution_count": 15,
   "metadata": {
    "ExecuteTime": {
     "end_time": "2022-05-10T05:11:21.061122Z",
     "start_time": "2022-05-10T05:11:21.057694Z"
    }
   },
   "outputs": [],
   "source": [
    "# get_presidents((get_results_table(c)))"
   ]
  },
  {
   "cell_type": "code",
   "execution_count": 16,
   "metadata": {
    "ExecuteTime": {
     "end_time": "2022-05-10T05:11:37.273590Z",
     "start_time": "2022-05-10T05:11:21.438526Z"
    }
   },
   "outputs": [],
   "source": [
    "ccodes = pd.read_excel(\"./CCSCodes.xlsx\")\n",
    "p=pd.read_excel(\"./ProjectofPrecincts2022.xlsx\")\n",
    "clustered_precincts = p[['PRECINCT_ID']].copy()\n",
    "clustered_precincts['cluster_id'] = p['PRECINCT_ID'].apply(lambda x: str(x).zfill(8))"
   ]
  },
  {
   "cell_type": "markdown",
   "metadata": {
    "ExecuteTime": {
     "end_time": "2022-05-10T03:07:55.261747Z",
     "start_time": "2022-05-10T03:07:55.257469Z"
    }
   },
   "source": [
    "## select province to process"
   ]
  },
  {
   "cell_type": "code",
   "execution_count": 17,
   "metadata": {
    "ExecuteTime": {
     "end_time": "2022-05-10T05:11:37.291020Z",
     "start_time": "2022-05-10T05:11:37.275295Z"
    }
   },
   "outputs": [],
   "source": [
    "prov=[ccc for ccc in pd.unique(ccodes['PROVINCE']) if 'NCR' in ccc ]\n",
    "prov_ccodes = ccodes[ccodes['PROVINCE'].isin(prov)]['CCS_CODE'].values\n",
    "prov_ccodes = [str(ccc).zfill(4) for ccc in prov_ccodes]"
   ]
  },
  {
   "cell_type": "code",
   "execution_count": 68,
   "metadata": {
    "ExecuteTime": {
     "end_time": "2022-05-10T08:51:21.513658Z",
     "start_time": "2022-05-10T08:51:21.490943Z"
    }
   },
   "outputs": [
    {
     "data": {
      "text/plain": [
       "525"
      ]
     },
     "execution_count": 68,
     "metadata": {},
     "output_type": "execute_result"
    }
   ],
   "source": [
    "try:\n",
    "    mach = pd.read_csv(\"logs/cluster_id_monitor\",sep=\":\",dtype=str)\n",
    "    mach.columns = ['LOG','USER','STAGE','Clustered precinct ID','DATA','TIMEIT']\n",
    "except:\n",
    "    mach = pd.DataFrame()\n",
    "    mach['Clustered precinct ID'] = pd.Series(dtype=str)\n",
    "\n",
    "skip_cluster_id = pd.unique(mach[mach['STAGE']=='PARSING_OK']['Clustered precinct ID']).tolist()\n",
    "len(skip_cluster_id)"
   ]
  },
  {
   "cell_type": "code",
   "execution_count": 69,
   "metadata": {
    "ExecuteTime": {
     "end_time": "2022-05-10T08:51:36.411621Z",
     "start_time": "2022-05-10T08:51:24.810756Z"
    }
   },
   "outputs": [
    {
     "data": {
      "text/plain": [
       "(10013, 10538)"
      ]
     },
     "execution_count": 69,
     "metadata": {},
     "output_type": "execute_result"
    }
   ],
   "source": [
    "clustered_precincts_filter_p = [ccc for ccc in clustered_precincts['cluster_id'].values if ccc in prov_ccodes]\n",
    "clustered_precincts_filter = [i for i in clustered_precincts_filter_p if i not in skip_cluster_id]\n",
    "len(clustered_precincts_filter), len(clustered_precincts_filter_p)"
   ]
  },
  {
   "cell_type": "code",
   "execution_count": null,
   "metadata": {
    "ExecuteTime": {
     "start_time": "2022-05-10T08:51:27.157Z"
    }
   },
   "outputs": [
    {
     "name": "stdout",
     "output_type": "stream",
     "text": [
      "CPU times: user 2 µs, sys: 0 ns, total: 2 µs\n",
      "Wall time: 3.81 µs\n"
     ]
    }
   ],
   "source": [
    "%time\n",
    "\n",
    "output = []\n",
    "\n",
    "opts = Options()\n",
    "opts.headless = True\n",
    "assert opts.headless  # Operating in headless mode\n",
    "browser1 = Firefox(options=opts)\n",
    "browser2 = Firefox(options=opts)\n",
    "browser3 = Firefox(options=opts)\n",
    "browser4 = Firefox(options=opts)\n",
    "browser5 = Firefox(options=opts)\n",
    "browsers = [browser1,browser2,browser3,browser4,browser5]\n",
    "\n",
    "for cluster_id in clustered_precincts_filter:\n",
    "    task = get_all_cluster_info_pipeline(cluster_id,browsers[random.randint(0,4)])\n",
    "    output.append(task)\n",
    "    \n",
    "all_data = dask.compute(*output)\n",
    "[browser.close() for browser in browsers]"
   ]
  },
  {
   "cell_type": "code",
   "execution_count": null,
   "metadata": {},
   "outputs": [],
   "source": []
  }
 ],
 "metadata": {
  "kernelspec": {
   "display_name": "Python 3 (ipykernel)",
   "language": "python",
   "name": "python3"
  },
  "language_info": {
   "codemirror_mode": {
    "name": "ipython",
    "version": 3
   },
   "file_extension": ".py",
   "mimetype": "text/x-python",
   "name": "python",
   "nbconvert_exporter": "python",
   "pygments_lexer": "ipython3",
   "version": "3.8.13"
  }
 },
 "nbformat": 4,
 "nbformat_minor": 2
}

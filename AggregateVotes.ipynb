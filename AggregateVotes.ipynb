{
 "cells": [
  {
   "cell_type": "code",
   "execution_count": null,
   "metadata": {
    "ExecuteTime": {
     "end_time": "2022-05-10T21:32:58.662006Z",
     "start_time": "2022-05-10T21:32:58.660119Z"
    }
   },
   "outputs": [],
   "source": [
    "import pandas as pd\n",
    "import time\n",
    "import dask\n",
    "import os"
   ]
  },
  {
   "cell_type": "markdown",
   "metadata": {},
   "source": [
    "need to set up a local spark environment to run this aggregation. do set-up your own method."
   ]
  },
  {
   "cell_type": "code",
   "execution_count": null,
   "metadata": {
    "ExecuteTime": {
     "end_time": "2022-05-10T21:32:58.677160Z",
     "start_time": "2022-05-10T21:32:58.663271Z"
    }
   },
   "outputs": [],
   "source": [
    "import findspark\n",
    "findspark.find()\n",
    "\n",
    "import pyspark\n",
    "from pyspark.sql import SparkSession\n",
    "from pyspark.sql.functions import *\n",
    "from pyspark.sql.types import *\n",
    "from pyspark.sql.window import *\n",
    "\n",
    "def set_spark_session():\n",
    "    spark = SparkSession.builder.\\\n",
    "    appName(\"SomeAppName\").\\\n",
    "    getOrCreate()\n",
    "    return spark\n",
    "\n",
    "spark = set_spark_session()"
   ]
  },
  {
   "cell_type": "code",
   "execution_count": null,
   "metadata": {
    "ExecuteTime": {
     "end_time": "2022-05-10T21:32:58.733518Z",
     "start_time": "2022-05-10T21:32:58.678355Z"
    }
   },
   "outputs": [],
   "source": [
    "mach = pd.read_csv(\"logs/cluster_id_monitor\",sep=\":\",dtype=str)\n",
    "mach.columns = ['LOG','USER','STAGE','Clustered precinct ID','DATA','TIMEIT']\n",
    "mach[mach['STAGE']=='PARSING_OK']['Clustered precinct ID'].drop_duplicates().shape"
   ]
  },
  {
   "cell_type": "markdown",
   "metadata": {},
   "source": [
    "## Aggregate ERs for President Cummulative Votes"
   ]
  },
  {
   "cell_type": "markdown",
   "metadata": {},
   "source": [
    "Can be replicated for VP, Senators and Partylist cummulative votes"
   ]
  },
  {
   "cell_type": "code",
   "execution_count": null,
   "metadata": {
    "ExecuteTime": {
     "end_time": "2022-05-10T21:33:18.554180Z",
     "start_time": "2022-05-10T21:32:58.735813Z"
    }
   },
   "outputs": [],
   "source": [
    "presidents = spark.read.csv(\"data/presidents_votes_*\",header=True)"
   ]
  },
  {
   "cell_type": "code",
   "execution_count": null,
   "metadata": {
    "ExecuteTime": {
     "end_time": "2022-05-10T21:33:26.398193Z",
     "start_time": "2022-05-10T21:33:18.556108Z"
    }
   },
   "outputs": [],
   "source": [
    "presidents.select(\"Candidate\").distinct().show()"
   ]
  },
  {
   "cell_type": "code",
   "execution_count": null,
   "metadata": {
    "ExecuteTime": {
     "end_time": "2022-05-10T21:33:32.679589Z",
     "start_time": "2022-05-10T21:33:26.401419Z"
    }
   },
   "outputs": [],
   "source": [
    "presidents_pdf = presidents.toPandas()"
   ]
  },
  {
   "cell_type": "code",
   "execution_count": null,
   "metadata": {
    "ExecuteTime": {
     "end_time": "2022-05-10T21:33:32.712122Z",
     "start_time": "2022-05-10T21:33:32.681085Z"
    }
   },
   "outputs": [],
   "source": [
    "presidents_pdf['Percentage'] = presidents_pdf['Percentage'].apply(lambda x: float(x.split(\"%\")[0].strip(\" \")))"
   ]
  },
  {
   "cell_type": "code",
   "execution_count": null,
   "metadata": {
    "ExecuteTime": {
     "end_time": "2022-05-10T21:38:16.933521Z",
     "start_time": "2022-05-10T21:38:16.659677Z"
    }
   },
   "outputs": [],
   "source": [
    "cols = ['Valid votes','Votes obtained by all candidates','Under-votes','Votes obtained by all candidates']\n",
    "presidents_pdf[presidents_pdf['Candidate'].isin(cols)==False].to_csv(\"./processed/ERS_TRANSMITTED_PRESIDENT.csv\",sep=\"|\", index=False)"
   ]
  },
  {
   "cell_type": "markdown",
   "metadata": {},
   "source": [
    "make zip file. on linux this can be done."
   ]
  },
  {
   "cell_type": "code",
   "execution_count": null,
   "metadata": {
    "ExecuteTime": {
     "end_time": "2022-05-10T21:38:37.094693Z",
     "start_time": "2022-05-10T21:38:36.832910Z"
    }
   },
   "outputs": [],
   "source": [
    "!zip ./processed/ERS_TRANSMITTED_PRESIDENT.csv.zip ./processed/ERS_TRANSMITTED_PRESIDENT.csv"
   ]
  },
  {
   "cell_type": "markdown",
   "metadata": {},
   "source": [
    "## Do quick histogram"
   ]
  },
  {
   "cell_type": "code",
   "execution_count": null,
   "metadata": {
    "ExecuteTime": {
     "end_time": "2022-05-10T21:33:33.231063Z",
     "start_time": "2022-05-10T21:33:33.221671Z"
    }
   },
   "outputs": [],
   "source": [
    "pd.unique(presidents_pdf['Candidate'])"
   ]
  },
  {
   "cell_type": "code",
   "execution_count": null,
   "metadata": {
    "ExecuteTime": {
     "end_time": "2022-05-10T21:33:34.546522Z",
     "start_time": "2022-05-10T21:33:33.232953Z"
    }
   },
   "outputs": [],
   "source": [
    "presidents_pdf[presidents_pdf['Candidate']=='ROBREDO, LENI (IND)']['Percentage'].hist()\n",
    "presidents_pdf[presidents_pdf['Candidate']=='MARCOS, BONGBONG (PFP)']['Percentage'].hist()"
   ]
  }
 ],
 "metadata": {
  "kernelspec": {
   "display_name": "Python 3 (ipykernel)",
   "language": "python",
   "name": "python3"
  },
  "language_info": {
   "codemirror_mode": {
    "name": "ipython",
    "version": 3
   },
   "file_extension": ".py",
   "mimetype": "text/x-python",
   "name": "python",
   "nbconvert_exporter": "python",
   "pygments_lexer": "ipython3",
   "version": "3.8.13"
  }
 },
 "nbformat": 4,
 "nbformat_minor": 2
}
